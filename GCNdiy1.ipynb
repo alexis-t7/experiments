{
 "cells": [
  {
   "cell_type": "code",
   "execution_count": 3,
   "id": "a195d185-feeb-4fb8-8f8d-1124d505b089",
   "metadata": {},
   "outputs": [
    {
     "name": "stdout",
     "output_type": "stream",
     "text": [
      "\u001b[33mWARNING: Ignoring invalid distribution -orch-geometric (/root/miniconda3/envs/pytorch_env/lib/python3.9/site-packages)\u001b[0m\u001b[33m\n",
      "\u001b[0mRequirement already satisfied: torch in /root/miniconda3/envs/pytorch_env/lib/python3.9/site-packages (2.6.0)\n",
      "Requirement already satisfied: filelock in /root/miniconda3/envs/pytorch_env/lib/python3.9/site-packages (from torch) (3.13.1)\n",
      "Requirement already satisfied: typing-extensions>=4.10.0 in /root/miniconda3/envs/pytorch_env/lib/python3.9/site-packages (from torch) (4.12.2)\n",
      "Requirement already satisfied: networkx in /root/miniconda3/envs/pytorch_env/lib/python3.9/site-packages (from torch) (3.2.1)\n",
      "Requirement already satisfied: jinja2 in /root/miniconda3/envs/pytorch_env/lib/python3.9/site-packages (from torch) (3.1.5)\n",
      "Requirement already satisfied: fsspec in /root/miniconda3/envs/pytorch_env/lib/python3.9/site-packages (from torch) (2024.12.0)\n",
      "Requirement already satisfied: nvidia-cuda-nvrtc-cu12==12.4.127 in /root/miniconda3/envs/pytorch_env/lib/python3.9/site-packages (from torch) (12.4.127)\n",
      "Requirement already satisfied: nvidia-cuda-runtime-cu12==12.4.127 in /root/miniconda3/envs/pytorch_env/lib/python3.9/site-packages (from torch) (12.4.127)\n",
      "Requirement already satisfied: nvidia-cuda-cupti-cu12==12.4.127 in /root/miniconda3/envs/pytorch_env/lib/python3.9/site-packages (from torch) (12.4.127)\n",
      "Requirement already satisfied: nvidia-cudnn-cu12==9.1.0.70 in /root/miniconda3/envs/pytorch_env/lib/python3.9/site-packages (from torch) (9.1.0.70)\n",
      "Requirement already satisfied: nvidia-cublas-cu12==12.4.5.8 in /root/miniconda3/envs/pytorch_env/lib/python3.9/site-packages (from torch) (12.4.5.8)\n",
      "Requirement already satisfied: nvidia-cufft-cu12==11.2.1.3 in /root/miniconda3/envs/pytorch_env/lib/python3.9/site-packages (from torch) (11.2.1.3)\n",
      "Requirement already satisfied: nvidia-curand-cu12==10.3.5.147 in /root/miniconda3/envs/pytorch_env/lib/python3.9/site-packages (from torch) (10.3.5.147)\n",
      "Requirement already satisfied: nvidia-cusolver-cu12==11.6.1.9 in /root/miniconda3/envs/pytorch_env/lib/python3.9/site-packages (from torch) (11.6.1.9)\n",
      "Requirement already satisfied: nvidia-cusparse-cu12==12.3.1.170 in /root/miniconda3/envs/pytorch_env/lib/python3.9/site-packages (from torch) (12.3.1.170)\n",
      "Requirement already satisfied: nvidia-cusparselt-cu12==0.6.2 in /root/miniconda3/envs/pytorch_env/lib/python3.9/site-packages (from torch) (0.6.2)\n",
      "Requirement already satisfied: nvidia-nccl-cu12==2.21.5 in /root/miniconda3/envs/pytorch_env/lib/python3.9/site-packages (from torch) (2.21.5)\n",
      "Requirement already satisfied: nvidia-nvtx-cu12==12.4.127 in /root/miniconda3/envs/pytorch_env/lib/python3.9/site-packages (from torch) (12.4.127)\n",
      "Requirement already satisfied: nvidia-nvjitlink-cu12==12.4.127 in /root/miniconda3/envs/pytorch_env/lib/python3.9/site-packages (from torch) (12.4.127)\n",
      "Requirement already satisfied: triton==3.2.0 in /root/miniconda3/envs/pytorch_env/lib/python3.9/site-packages (from torch) (3.2.0)\n",
      "Requirement already satisfied: sympy==1.13.1 in /root/miniconda3/envs/pytorch_env/lib/python3.9/site-packages (from torch) (1.13.1)\n",
      "Requirement already satisfied: mpmath<1.4,>=1.1.0 in /root/miniconda3/envs/pytorch_env/lib/python3.9/site-packages (from sympy==1.13.1->torch) (1.3.0)\n",
      "Requirement already satisfied: MarkupSafe>=2.0 in /root/miniconda3/envs/pytorch_env/lib/python3.9/site-packages (from jinja2->torch) (2.1.3)\n",
      "\u001b[33mWARNING: Ignoring invalid distribution -orch-geometric (/root/miniconda3/envs/pytorch_env/lib/python3.9/site-packages)\u001b[0m\u001b[33m\n",
      "\u001b[0m\u001b[33mWARNING: Ignoring invalid distribution -orch-geometric (/root/miniconda3/envs/pytorch_env/lib/python3.9/site-packages)\u001b[0m\u001b[33m\n",
      "\u001b[0m\u001b[33mWARNING: Running pip as the 'root' user can result in broken permissions and conflicting behaviour with the system package manager, possibly rendering your system unusable. It is recommended to use a virtual environment instead: https://pip.pypa.io/warnings/venv. Use the --root-user-action option if you know what you are doing and want to suppress this warning.\u001b[0m\u001b[33m\n",
      "\u001b[0m"
     ]
    }
   ],
   "source": [
    "!pip install torch\n",
    "\n"
   ]
  },
  {
   "cell_type": "code",
   "execution_count": 4,
   "id": "b504f55a-2e79-4e89-b64c-566b16fb3f93",
   "metadata": {},
   "outputs": [],
   "source": [
    "import torch\n",
    "import networkx as nx\n",
    "import numpy as np\n",
    "\n",
    "# Load graph\n",
    "G = nx.karate_club_graph()\n",
    "\n",
    "# Number of nodes\n",
    "num_nodes = G.number_of_nodes()\n",
    "\n",
    "# One-hot features for each node\n",
    "X = torch.eye(num_nodes)\n",
    "\n",
    "# Get edge_index tensor: shape (2, num_edges)\n",
    "edges = list(G.edges())\n",
    "edge_index = torch.tensor(edges, dtype=torch.long).t()\n",
    "edge_index = torch.cat([edge_index, edge_index.flip(0)], dim=1)\n",
    "\n",
    "\n",
    "label_map = {'0': 0, '1': 1}\n",
    "y = torch.tensor([label_map[G.nodes[i]['club']] for i in G.nodes], dtype=torch.long)\n"
   ]
  },
  {
   "cell_type": "code",
   "execution_count": 5,
   "id": "80a84adf-0637-46bd-95cf-84b8bbb86af3",
   "metadata": {},
   "outputs": [],
   "source": [
    "class GCNConv(torch.nn.Module):\n",
    "\n",
    "    def __init__(self, num_features, output_dim):\n",
    "        super().__init__()\n",
    "        self.W0 = torch.nn.Parameter(torch.randn(num_features, 16))  # First layer\n",
    "        self.W1 = torch.nn.Parameter(torch.randn(16, output_dim))    # Second layer\n",
    "\n",
    "    def g_conv(self, x, w, edge_indices):\n",
    "        num_nodes = x.size(0)\n",
    "        A = torch.zeros((num_nodes, num_nodes))\n",
    "\n",
    "        # Fill in adjacency matrix from edge indices\n",
    "        for i in range(edge_indices.shape[1]):\n",
    "            src = edge_indices[0, i]\n",
    "            tgt = edge_indices[1, i]\n",
    "            A[src, tgt] = 1\n",
    "\n",
    "        # Add self-loops\n",
    "        A += torch.eye(num_nodes)\n",
    "\n",
    "        # Normalize A: D^(-1/2) A D^(-1/2)\n",
    "        D = torch.diag(A.sum(1))\n",
    "        D_inv_sqrt = torch.linalg.inv(torch.sqrt(D))\n",
    "        A_hat = D_inv_sqrt @ A @ D_inv_sqrt\n",
    "\n",
    "        # GCN operation: A_hat X W\n",
    "        h = A_hat @ x @ w\n",
    "        return h\n",
    "\n",
    "    def forward(self, x, edge_index):\n",
    "        h1 = self.g_conv(x, self.W0, edge_index).relu()\n",
    "        h = self.g_conv(h1, self.W1, edge_index)\n",
    "        return torch.softmax(h, dim=1)\n"
   ]
  },
  {
   "cell_type": "code",
   "execution_count": 6,
   "id": "c7ad5ca7-43e6-4e90-a5a7-a10a41b808e9",
   "metadata": {},
   "outputs": [
    {
     "name": "stdout",
     "output_type": "stream",
     "text": [
      "Epoch 0, Loss: 0.8084, Accuracy: 0.2647\n",
      "Epoch 10, Loss: 0.6597, Accuracy: 0.6176\n",
      "Epoch 20, Loss: 0.5502, Accuracy: 0.7647\n",
      "Epoch 30, Loss: 0.4803, Accuracy: 0.9118\n",
      "Epoch 40, Loss: 0.4328, Accuracy: 0.9412\n",
      "Epoch 50, Loss: 0.3986, Accuracy: 0.9412\n",
      "Epoch 60, Loss: 0.3745, Accuracy: 0.9706\n",
      "Epoch 70, Loss: 0.3596, Accuracy: 0.9706\n",
      "Epoch 80, Loss: 0.3505, Accuracy: 0.9706\n",
      "Epoch 90, Loss: 0.3448, Accuracy: 0.9706\n",
      "Epoch 100, Loss: 0.3411, Accuracy: 0.9706\n",
      "Epoch 110, Loss: 0.3382, Accuracy: 1.0000\n",
      "Epoch 120, Loss: 0.3361, Accuracy: 1.0000\n",
      "Epoch 130, Loss: 0.3343, Accuracy: 1.0000\n",
      "Epoch 140, Loss: 0.3329, Accuracy: 1.0000\n",
      "Epoch 150, Loss: 0.3317, Accuracy: 1.0000\n",
      "Epoch 160, Loss: 0.3305, Accuracy: 1.0000\n",
      "Epoch 170, Loss: 0.3295, Accuracy: 1.0000\n",
      "Epoch 180, Loss: 0.3285, Accuracy: 1.0000\n",
      "Epoch 190, Loss: 0.3276, Accuracy: 1.0000\n"
     ]
    }
   ],
   "source": [
    "model = GCNConv(num_features=X.shape[1], output_dim=2)\n",
    "optimizer = torch.optim.Adam(model.parameters(), lr=0.01)\n",
    "loss_fn = torch.nn.CrossEntropyLoss()\n",
    "\n",
    "# Train\n",
    "for epoch in range(200):\n",
    "    model.train()\n",
    "    out = model(X, edge_index)\n",
    "    loss = loss_fn(out, y)\n",
    "\n",
    "    optimizer.zero_grad()\n",
    "    loss.backward()\n",
    "    optimizer.step()\n",
    "\n",
    "    if epoch % 10 == 0:\n",
    "        pred = out.argmax(dim=1)\n",
    "        acc = (pred == y).float().mean()\n",
    "        print(f\"Epoch {epoch}, Loss: {loss.item():.4f}, Accuracy: {acc.item():.4f}\")\n"
   ]
  },
  {
   "cell_type": "code",
   "execution_count": null,
   "id": "db1de824-b03c-4f39-a1dc-fe87172b9850",
   "metadata": {},
   "outputs": [],
   "source": []
  }
 ],
 "metadata": {
  "kernelspec": {
   "display_name": "pytorch_env",
   "language": "python",
   "name": "pytorch_env"
  },
  "language_info": {
   "codemirror_mode": {
    "name": "ipython",
    "version": 3
   },
   "file_extension": ".py",
   "mimetype": "text/x-python",
   "name": "python",
   "nbconvert_exporter": "python",
   "pygments_lexer": "ipython3",
   "version": "3.9.21"
  }
 },
 "nbformat": 4,
 "nbformat_minor": 5
}
