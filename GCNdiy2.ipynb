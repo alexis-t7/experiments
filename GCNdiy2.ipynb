{
 "cells": [
  {
   "cell_type": "code",
   "execution_count": 24,
   "id": "cdec97f3-7fce-45f8-b4c6-eb6710139810",
   "metadata": {},
   "outputs": [],
   "source": [
    "import torch\n",
    "from torch.utils.data import Dataset, DataLoader\n",
    "import numpy as np\n",
    "import matplotlib.pyplot as plt\n"
   ]
  },
  {
   "cell_type": "code",
   "execution_count": 25,
   "id": "b735a6bb-8610-4f99-86d2-562ee4b03c59",
   "metadata": {},
   "outputs": [],
   "source": [
    "class KarateClubDataset(Dataset):\n",
    "    def __init__(self):\n",
    "        self.num_nodes = 34\n",
    "        self.x = torch.eye(self.num_nodes)  # One-hot node features\n",
    "\n",
    "        # Define undirected edge list (Zachary's Karate Club)\n",
    "        edges = np.array([\n",
    "            [0, 1], [0, 2], [0, 3], [0, 4], [0, 5], [0, 6], [0, 7], [0, 8],\n",
    "            [0, 10], [0, 11], [0, 12], [0, 13], [0, 17], [0, 19], [0, 21],\n",
    "            [0, 31], [1, 2], [1, 3], [1, 7], [1, 13], [1, 17], [1, 19],\n",
    "            [1, 21], [1, 30], [2, 3], [2, 7], [2, 27], [2, 28], [2, 32],\n",
    "            [3, 7], [3, 12], [3, 13], [4, 6], [4, 10], [5, 6], [5, 10],\n",
    "            [5, 16], [6, 16], [8, 30], [8, 32], [8, 33], [9, 33], [13, 33],\n",
    "            [14, 32], [14, 33], [15, 32], [15, 33], [18, 32], [18, 33],\n",
    "            [19, 33], [20, 32], [20, 33], [22, 32], [22, 33], [23, 25],\n",
    "            [23, 27], [23, 29], [23, 32], [23, 33], [24, 25], [24, 27],\n",
    "            [24, 31], [25, 31], [26, 29], [26, 33], [27, 33], [28, 31],\n",
    "            [28, 33], [29, 32], [29, 33], [30, 32], [30, 33], [31, 32],\n",
    "            [31, 33], [32, 33]\n",
    "        ])\n",
    "\n",
    "        # Convert to edge_index with both directions (undirected)\n",
    "        edge_index = np.array(edges).T\n",
    "        edge_index = np.concatenate((edge_index, edge_index[::-1]), axis=1)\n",
    "        self.edge_index = torch.tensor(edge_index, dtype=torch.long)\n",
    "\n",
    "    def __len__(self):\n",
    "        return 1  # Only one graph\n",
    "\n",
    "    def __getitem__(self, idx):\n",
    "        return self.x, self.edge_index\n",
    "\n"
   ]
  },
  {
   "cell_type": "code",
   "execution_count": 26,
   "id": "8d2f49bd-b7b4-47b1-8763-d7c125ed8fd6",
   "metadata": {},
   "outputs": [
    {
     "name": "stdout",
     "output_type": "stream",
     "text": [
      "Node features shape: torch.Size([1, 34, 34])\n",
      "Edge index shape: torch.Size([1, 2, 150])\n"
     ]
    }
   ],
   "source": [
    "dataset = KarateClubDataset()\n",
    "loader = DataLoader(dataset, batch_size=1, shuffle=False)\n",
    "\n",
    "# For testing\n",
    "for x, edge_index in loader:\n",
    "    print(\"Node features shape:\", x.shape)\n",
    "    print(\"Edge index shape:\", edge_index.shape)\n"
   ]
  },
  {
   "cell_type": "code",
   "execution_count": 27,
   "id": "792f74b6-eb97-4580-9168-f7853f80a2fb",
   "metadata": {},
   "outputs": [],
   "source": [
    "class GCNConv(torch.nn.Module):\n",
    "    def __init__(self, num_features, output_dim):\n",
    "        super().__init__()\n",
    "        self.W0 = torch.nn.Parameter(torch.randn(num_features, 16))\n",
    "        self.W1 = torch.nn.Parameter(torch.randn(16, output_dim))\n",
    "\n",
    "    def g_conv(self, x, w, edge_indices):\n",
    "        num_nodes = x.size(0)\n",
    "        A = torch.zeros((num_nodes, num_nodes), device=x.device)\n",
    "        \n",
    "        A[edge_indices[0], edge_indices[1]] = 1\n",
    "        A += torch.eye(num_nodes, device=x.device)  # Add self-connections\n",
    "        D_inv_sqrt = torch.diag(torch.pow(A.sum(1), -0.5))\n",
    "        A_hat = D_inv_sqrt @ A @ D_inv_sqrt\n",
    "        return A_hat @ x @ w\n",
    "\n",
    "    def forward(self, x, edge_index):\n",
    "        h1 = self.g_conv(x, self.W0, edge_index).relu()\n",
    "        h = self.g_conv(h1, self.W1, edge_index).softmax(dim=1)\n",
    "        return h\n"
   ]
  },
  {
   "cell_type": "code",
   "execution_count": 28,
   "id": "875631a5-68dc-4959-8b1f-db8d2dd2103d",
   "metadata": {},
   "outputs": [
    {
     "name": "stdout",
     "output_type": "stream",
     "text": [
      "Epoch   0 | Loss: 0.7374\n",
      "Epoch  10 | Loss: 0.6937\n",
      "Epoch  20 | Loss: 0.6506\n",
      "Epoch  30 | Loss: 0.6191\n",
      "Epoch  40 | Loss: 0.5923\n",
      "Epoch  50 | Loss: 0.5700\n",
      "Epoch  60 | Loss: 0.5499\n",
      "Epoch  70 | Loss: 0.5315\n",
      "Epoch  80 | Loss: 0.5145\n",
      "Epoch  90 | Loss: 0.4987\n",
      "Epoch 100 | Loss: 0.4838\n",
      "Epoch 110 | Loss: 0.4701\n",
      "Epoch 120 | Loss: 0.4575\n",
      "Epoch 130 | Loss: 0.4455\n",
      "Epoch 140 | Loss: 0.4332\n",
      "Epoch 150 | Loss: 0.4204\n",
      "Epoch 160 | Loss: 0.4091\n",
      "Epoch 170 | Loss: 0.3996\n",
      "Epoch 180 | Loss: 0.3917\n",
      "Epoch 190 | Loss: 0.3851\n"
     ]
    }
   ],
   "source": [
    "# Create model\n",
    "model = GCNConv(num_features=34, output_dim=2)\n",
    "optimizer = torch.optim.Adam(model.parameters(), lr=0.01)\n",
    "loss_fn = torch.nn.CrossEntropyLoss()\n",
    "\n",
    "# Example: dummy labels (use real labels if available)\n",
    "labels = torch.randint(0, 2, (34,))\n",
    "\n",
    "# Training loop\n",
    "for x, edge_index in loader:\n",
    "    for epoch in range(200):\n",
    "        optimizer.zero_grad()\n",
    "        out = model(x.squeeze(0), edge_index.squeeze(0))\n",
    "        loss = loss_fn(out, labels)\n",
    "        loss.backward()\n",
    "        optimizer.step()\n",
    "\n",
    "        if epoch % 10 == 0:\n",
    "            print(f\"Epoch {epoch:3d} | Loss: {loss.item():.4f}\")\n"
   ]
  },
  {
   "cell_type": "code",
   "execution_count": null,
   "id": "34fb6308-f1df-41ab-bf26-bfe49989a20c",
   "metadata": {},
   "outputs": [],
   "source": []
  }
 ],
 "metadata": {
  "kernelspec": {
   "display_name": "pytorch_env",
   "language": "python",
   "name": "pytorch_env"
  },
  "language_info": {
   "codemirror_mode": {
    "name": "ipython",
    "version": 3
   },
   "file_extension": ".py",
   "mimetype": "text/x-python",
   "name": "python",
   "nbconvert_exporter": "python",
   "pygments_lexer": "ipython3",
   "version": "3.9.21"
  }
 },
 "nbformat": 4,
 "nbformat_minor": 5
}
