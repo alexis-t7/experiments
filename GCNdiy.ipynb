{
 "cells": [
  {
   "cell_type": "code",
   "execution_count": 1,
   "id": "cdec97f3-7fce-45f8-b4c6-eb6710139810",
   "metadata": {},
   "outputs": [],
   "source": [
    "import torch\n",
    "from torch.utils.data import Dataset, DataLoader\n",
    "import numpy as np\n",
    "import matplotlib.pyplot as plt\n"
   ]
  },
  {
   "cell_type": "code",
   "execution_count": 2,
   "id": "71aef9a3-4c17-4cbb-941b-6ce27a1d415e",
   "metadata": {},
   "outputs": [
    {
     "name": "stderr",
     "output_type": "stream",
     "text": [
      "/root/miniconda3/envs/pytorch_env/lib/python3.9/site-packages/torch_geometric/typing.py:124: UserWarning: An issue occurred while importing 'torch-sparse'. Disabling its usage. Stacktrace: /root/miniconda3/envs/pytorch_env/lib/python3.9/site-packages/zmq/backend/cython/../../../../.././libstdc++.so.6: version `GLIBCXX_3.4.32' not found (required by /root/miniconda3/envs/pytorch_env/lib/python3.9/site-packages/torch_sparse/_version_cpu.so)\n",
      "  warnings.warn(f\"An issue occurred while importing 'torch-sparse'. \"\n"
     ]
    }
   ],
   "source": [
    "from torch_geometric.data import Data\n",
    "def get_karate_club_data():\n",
    "    G = nx.karate_club_graph()\n",
    "    num_nodes = G.number_of_nodes()\n",
    "    x = torch.eye(num_nodes, dtype=torch.float)\n",
    "    edge_index = torch.tensor(list(G.edges), dtype=torch.long).t().contiguous()\n",
    "    edge_index = torch.cat([edge_index, edge_index[[1, 0]]], dim=1)  # undirected\n",
    " \n",
    "    label_map = {'Mr. Hi': 0, 'Officer': 1}\n",
    "    y = torch.tensor([label_map[G.nodes[i]['club']] for i in range(num_nodes)], dtype=torch.long)\n",
    " \n",
    "    perm = torch.randperm(num_nodes)\n",
    "    train_mask = torch.zeros(num_nodes, dtype=torch.bool)\n",
    "    test_mask = torch.zeros(num_nodes, dtype=torch.bool)\n",
    "    train_mask[perm[:20]] = True\n",
    "    test_mask[perm[20:]] = True\n",
    " \n",
    "    data = Data(x=x, edge_index=edge_index, y=y, train_mask=train_mask, test_mask=test_mask)\n",
    "    return data"
   ]
  },
  {
   "cell_type": "code",
   "execution_count": 7,
   "id": "b735a6bb-8610-4f99-86d2-562ee4b03c59",
   "metadata": {},
   "outputs": [],
   "source": [
    "'''import torch\n",
    "import networkx as nx\n",
    "from torch.utils.data import Dataset\n",
    "\n",
    "class KarateClubDataset(Dataset):\n",
    "    def __init__(self):\n",
    "        G = nx.karate_club_graph()\n",
    "        self.num_nodes = G.number_of_nodes()\n",
    "        self.x = torch.eye(self.num_nodes)  # One-hot encoding\n",
    "\n",
    "        # Get edge list \n",
    "        edges = np.array(G.edges())\n",
    "        edge_index = np.array(edges).T\n",
    "        edge_index = np.concatenate((edge_index, edge_index[::-1]), axis=1)\n",
    "        self.edge_index = torch.tensor(edge_index, dtype=torch.long)\n",
    "\n",
    "        self.labels = torch.zeros(self.num_nodes, dtype=torch.long)\n",
    "        for i in range(self.num_nodes):\n",
    "            # Get the club label from networkx (0 for Mr. Hi's group, 1 for Officer's group)\n",
    "            self.labels[i] = G.nodes[i]['club'] == 'Officer'\n",
    "\n",
    "    def __len__(self):\n",
    "        return 1  \n",
    "\n",
    "    def __getitem__(self, idx):\n",
    "        return self.x, self.edge_index'''\n"
   ]
  },
  {
   "cell_type": "code",
   "execution_count": 8,
   "id": "8d2f49bd-b7b4-47b1-8763-d7c125ed8fd6",
   "metadata": {},
   "outputs": [
    {
     "name": "stdout",
     "output_type": "stream",
     "text": [
      "Node features shape: torch.Size([1, 34, 34])\n",
      "Edge index shape: torch.Size([1, 2, 156])\n"
     ]
    }
   ],
   "source": [
    "dataset = KarateClubDataset()\n",
    "loader = DataLoader(dataset, batch_size=1, shuffle=False)\n",
    "\n",
    "# For testing\n",
    "for x, edge_index in loader:\n",
    "    print(\"Node features shape:\", x.shape)\n",
    "    print(\"Edge index shape:\", edge_index.shape)\n"
   ]
  },
  {
   "cell_type": "code",
   "execution_count": 6,
   "id": "792f74b6-eb97-4580-9168-f7853f80a2fb",
   "metadata": {},
   "outputs": [],
   "source": [
    "class GCNConv(torch.nn.Module):\n",
    "    def __init__(self, num_features, hidden_channels, output_dim):\n",
    "        super().__init__()\n",
    "        self.W0 = torch.nn.Parameter(torch.randn(num_features, hidden_channels))\n",
    "        self.W1 = torch.nn.Parameter(torch.randn(hidden_channels, output_dim))\n",
    "\n",
    "    def g_conv(self, x, w, edge_indices):\n",
    "        num_nodes = x.size(0)\n",
    "        A = torch.zeros((num_nodes, num_nodes), device=x.device)\n",
    "        \n",
    "        A[edge_indices[0], edge_indices[1]] = 1\n",
    "        A += torch.eye(num_nodes, device=x.device)  # Add self-connections\n",
    "        D_inv_sqrt = torch.diag(torch.pow(A.sum(1), -0.5))\n",
    "        A_hat = D_inv_sqrt @ A @ D_inv_sqrt\n",
    "        return A_hat @ x @ w\n",
    "\n",
    "    def forward(self, x, edge_index):\n",
    "        h1 = self.g_conv(x, self.W0, edge_index).relu()\n",
    "        h = self.g_conv(h1, self.W1, edge_index).softmax(dim=1)\n",
    "        return h\n"
   ]
  },
  {
   "cell_type": "code",
   "execution_count": 9,
   "id": "e3286a8a-2a31-4e57-b714-eb598c987e90",
   "metadata": {},
   "outputs": [
    {
     "name": "stdout",
     "output_type": "stream",
     "text": [
      "Epoch   0 | Loss: 0.8169 | Test Acc: 0.2857\n",
      "Epoch  10 | Loss: 0.6389 | Test Acc: 0.6429\n",
      "Epoch  20 | Loss: 0.5068 | Test Acc: 0.8571\n",
      "Epoch  30 | Loss: 0.4316 | Test Acc: 0.8571\n",
      "Epoch  40 | Loss: 0.3912 | Test Acc: 0.8571\n",
      "Epoch  50 | Loss: 0.3675 | Test Acc: 0.9286\n",
      "Epoch  60 | Loss: 0.3526 | Test Acc: 0.9286\n",
      "Epoch  70 | Loss: 0.3420 | Test Acc: 0.9286\n",
      "Epoch  80 | Loss: 0.3350 | Test Acc: 0.9286\n",
      "Epoch  90 | Loss: 0.3302 | Test Acc: 0.9286\n",
      "Epoch 100 | Loss: 0.3268 | Test Acc: 0.9286\n",
      "Epoch 110 | Loss: 0.3242 | Test Acc: 0.9286\n",
      "Epoch 120 | Loss: 0.3222 | Test Acc: 0.9286\n",
      "Epoch 130 | Loss: 0.3206 | Test Acc: 0.9286\n",
      "Epoch 140 | Loss: 0.3194 | Test Acc: 0.9286\n",
      "Epoch 150 | Loss: 0.3185 | Test Acc: 0.9286\n",
      "Epoch 160 | Loss: 0.3177 | Test Acc: 0.9286\n",
      "Epoch 170 | Loss: 0.3171 | Test Acc: 0.9286\n",
      "Epoch 180 | Loss: 0.3167 | Test Acc: 0.9286\n",
      "Epoch 190 | Loss: 0.3163 | Test Acc: 0.9286\n",
      "Epoch 200 | Loss: 0.3160 | Test Acc: 0.9286\n",
      "Epoch 210 | Loss: 0.3157 | Test Acc: 0.9286\n",
      "Epoch 220 | Loss: 0.3155 | Test Acc: 0.9286\n",
      "Epoch 230 | Loss: 0.3153 | Test Acc: 0.9286\n",
      "Epoch 240 | Loss: 0.3151 | Test Acc: 0.9286\n",
      "Epoch 250 | Loss: 0.3149 | Test Acc: 0.9286\n",
      "Epoch 260 | Loss: 0.3148 | Test Acc: 0.9286\n",
      "Epoch 270 | Loss: 0.3147 | Test Acc: 0.9286\n",
      "Epoch 280 | Loss: 0.3146 | Test Acc: 0.9286\n",
      "Epoch 290 | Loss: 0.3145 | Test Acc: 0.9286\n"
     ]
    }
   ],
   "source": [
    "import networkx as nx\n",
    "data = get_karate_club_data()\n",
    "model = GCNConv(num_features=data.num_node_features, hidden_channels=16, output_dim=2)\n",
    "optimizer = torch.optim.Adam(model.parameters(), lr=0.01)\n",
    "loss_fn = torch.nn.CrossEntropyLoss()\n",
    " \n",
    "for epoch in range(300):\n",
    "    model.train()\n",
    "    optimizer.zero_grad()\n",
    "    out = model(data.x, data.edge_index)\n",
    " \n",
    "    loss = loss_fn(out[data.train_mask], data.y[data.train_mask])\n",
    "    loss.backward()\n",
    "    optimizer.step()\n",
    " \n",
    "    model.eval()\n",
    "    _, pred = out.max(dim=1)\n",
    "    correct = int((pred[data.test_mask] == data.y[data.test_mask]).sum())\n",
    "    acc = correct / int(data.test_mask.sum())\n",
    " \n",
    "    if epoch % 10 == 0:\n",
    "        print(f\"Epoch {epoch:3d} | Loss: {loss.item():.4f} | Test Acc: {acc:.4f}\")"
   ]
  },
  {
   "cell_type": "code",
   "execution_count": null,
   "id": "34fb6308-f1df-41ab-bf26-bfe49989a20c",
   "metadata": {},
   "outputs": [],
   "source": []
  }
 ],
 "metadata": {
  "kernelspec": {
   "display_name": "pytorch_env",
   "language": "python",
   "name": "pytorch_env"
  },
  "language_info": {
   "codemirror_mode": {
    "name": "ipython",
    "version": 3
   },
   "file_extension": ".py",
   "mimetype": "text/x-python",
   "name": "python",
   "nbconvert_exporter": "python",
   "pygments_lexer": "ipython3",
   "version": "3.9.21"
  }
 },
 "nbformat": 4,
 "nbformat_minor": 5
}
