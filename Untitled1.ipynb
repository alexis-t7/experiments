{
 "cells": [
  {
   "cell_type": "code",
   "execution_count": 6,
   "id": "9345b70c-6f02-4afa-a1c3-e67d035cfcb6",
   "metadata": {},
   "outputs": [
    {
     "name": "stdout",
     "output_type": "stream",
     "text": [
      "Output of the GCN layer:\n",
      "[[0.59350366 1.22465271]\n",
      " [0.45937255 0.88896449]\n",
      " [0.68524226 1.36197109]\n",
      " [0.46126807 0.91724754]]\n"
     ]
    }
   ],
   "source": [
    "import numpy as np\n",
    "\n",
    "#Create input \n",
    "\n",
    "num_nodes = 4  # of nodes \n",
    "num_features = 3  # input features\n",
    "out_features = 2  # output features\n",
    "\n",
    "# Randomly initialize the feature matrix (X) of shape (num_nodes, num_features)\n",
    "# Randomly generated\n",
    "X = np.random.rand(num_nodes, num_features)\n",
    "\n",
    "# Adjacency matrix (A) of shape (num_nodes, num_nodes)\n",
    "# Each row corresponds to a node, and a value of 1 means there's an edge between the nodes\n",
    "A = np.array([\n",
    "    [0, 1, 1, 0],  # Node 0 connected to nodes 1 and 2\n",
    "    [1, 0, 1, 0],  # Node 1 connected to nodes 0 and 2\n",
    "    [1, 1, 0, 1],  # Node 2 connected to nodes 0, 1, and 3\n",
    "    [0, 0, 1, 0]   # Node 3 connected to node 2\n",
    "])\n",
    "\n",
    "# Learnable weight matrix (W) of shape (num_features, out_features)\n",
    "W = np.random.rand(num_features, out_features)\n",
    "\n",
    "# Compute the degree matrix D\n",
    "D = np.diag(np.sum(A, axis=1))  # Degree matrix (sum of rows)\n",
    "\n",
    "# Compute the normalized adjacency matrix A_norm = D^(-1/2) * A * D^(-1/2)\n",
    "D_inv_sqrt = np.linalg.inv(np.sqrt(D))  # D^(-1/2)\n",
    "A_norm = np.dot(np.dot(D_inv_sqrt, A), D_inv_sqrt)  # A_norm = D^(-1/2) * A * D^(-1/2)\n",
    "\n",
    "# Perform the Graph Convolution operation H = A_norm * X * W\n",
    "# multiply nomralized adjacency matrix by input feature matrix and then by weight matrix\n",
    "H = np.dot(A_norm, X)  # First part: A_norm * X\n",
    "H = np.dot(H, W)  # Second part: H * W (final result)\n",
    "\n",
    "# Apply the activation function (ReLU)\n",
    "H = np.maximum(0, H)  # ReLU activation\n",
    "\n",
    "# Output the result\n",
    "# new transformed feature matrix H,represents the transformed node features after applying the GCN layer.\n",
    "print(\"Output of the GCN layer:\")\n",
    "print(H)\n"
   ]
  },
  {
   "cell_type": "code",
   "execution_count": 7,
   "id": "44419d05-8544-4ad5-92b8-1212594b36e9",
   "metadata": {},
   "outputs": [
    {
     "name": "stdout",
     "output_type": "stream",
     "text": [
      "\u001b[33mWARNING: Ignoring invalid distribution -orch-geometric (/root/miniconda3/envs/pytorch_env/lib/python3.9/site-packages)\u001b[0m\u001b[33m\n",
      "\u001b[0mRequirement already satisfied: networkx in /root/miniconda3/envs/pytorch_env/lib/python3.9/site-packages (3.2.1)\n",
      "Requirement already satisfied: numpy in /root/miniconda3/envs/pytorch_env/lib/python3.9/site-packages (1.26.4)\n",
      "\u001b[33mWARNING: Ignoring invalid distribution -orch-geometric (/root/miniconda3/envs/pytorch_env/lib/python3.9/site-packages)\u001b[0m\u001b[33m\n",
      "\u001b[0m\u001b[33mWARNING: Ignoring invalid distribution -orch-geometric (/root/miniconda3/envs/pytorch_env/lib/python3.9/site-packages)\u001b[0m\u001b[33m\n",
      "\u001b[0m\u001b[33mWARNING: Running pip as the 'root' user can result in broken permissions and conflicting behaviour with the system package manager, possibly rendering your system unusable. It is recommended to use a virtual environment instead: https://pip.pypa.io/warnings/venv. Use the --root-user-action option if you know what you are doing and want to suppress this warning.\u001b[0m\u001b[33m\n",
      "\u001b[0mNote: you may need to restart the kernel to use updated packages.\n"
     ]
    }
   ],
   "source": [
    "pip install networkx numpy"
   ]
  },
  {
   "cell_type": "code",
   "execution_count": 8,
   "id": "eb885a65-f5c5-442c-a00a-1e881244a263",
   "metadata": {},
   "outputs": [],
   "source": [
    "import networkx as nx\n",
    "import numpy as np\n",
    "\n",
    "# Load the Karate Club graph from NetworkX\n",
    "G = nx.karate_club_graph()\n",
    "\n",
    "# adjacency matrix (A)\n",
    "# connections between nodes (members)\n",
    "# generated from the graph G\n",
    "A = nx.adjacency_matrix(G).toarray()  # Convert sparse matrix to dense matrix\n",
    "\n",
    "# feature matrix (X)\n",
    "# Every node will has feature vector of length equal to the number of nodes\n",
    "num_nodes = G.number_of_nodes()\n",
    "X = np.zeros((num_nodes, num_nodes))\n",
    "for i in range(num_nodes):\n",
    "    X[i, i] = 1  \n",
    "\n",
    "# Create the degree matrix (D)\n",
    "# computed by summing the rows of the adjacency matrix A\n",
    "D = np.diag(np.sum(A, axis=1))  # Degree matrix (sum of rows)\n"
   ]
  },
  {
   "cell_type": "code",
   "execution_count": 10,
   "id": "f7330c24-2b4e-4a2a-9412-45dc3e062c03",
   "metadata": {},
   "outputs": [
    {
     "name": "stdout",
     "output_type": "stream",
     "text": [
      "Output of the GCN layer (feature matrix H):\n",
      "[[1.1138316  0.91126547]\n",
      " [0.7417234  0.69332713]\n",
      " [0.95129752 0.67541734]\n",
      " [0.68347598 0.61237188]\n",
      " [0.27068252 0.54507387]\n",
      " [0.69459338 0.79917329]\n",
      " [0.70080281 0.29675237]\n",
      " [0.40809271 0.26488068]\n",
      " [0.43425584 0.45443909]\n",
      " [0.16192871 0.20032148]\n",
      " [0.36018    0.13679967]\n",
      " [0.04592826 0.16606895]\n",
      " [0.26475729 0.26328009]\n",
      " [0.48356476 0.34653588]\n",
      " [0.32289953 0.22517661]\n",
      " [0.36231207 0.29707497]\n",
      " [0.56549574 0.35132011]\n",
      " [0.13739144 0.12148569]\n",
      " [0.23000672 0.20562576]\n",
      " [0.2420256  0.1656108 ]\n",
      " [0.30187206 0.18113604]\n",
      " [0.21145227 0.11453944]\n",
      " [0.30342794 0.25539044]\n",
      " [0.76384779 0.61481035]\n",
      " [0.34629869 0.53918807]\n",
      " [0.54353752 0.37578673]\n",
      " [0.45053356 0.1277576 ]\n",
      " [0.65498334 0.24630515]\n",
      " [0.17429111 0.30808384]\n",
      " [0.58744105 0.50623909]\n",
      " [0.55226042 0.34530331]\n",
      " [0.88184596 0.6658918 ]\n",
      " [1.13693335 0.79562446]\n",
      " [1.49223606 1.11794537]]\n"
     ]
    }
   ],
   "source": [
    "# Define the GCN layer \n",
    "def gcn_layer(A, X, W):\n",
    "    # Normalize the adjacency matrix A\n",
    "    D_inv_sqrt = np.linalg.inv(np.sqrt(D))  # D^(-1/2)\n",
    "    A_norm = np.dot(np.dot(D_inv_sqrt, A), D_inv_sqrt)  # A_norm = D^(-1/2) * A * D^(-1/2)\n",
    "    \n",
    "    # Graph Convolution Operation H = A_norm * X * W\n",
    "    H = np.dot(A_norm, X)  # A_norm * X\n",
    "    H = np.dot(H, W)  # H * W (final result)\n",
    "    \n",
    "    # activation function (ReLU)\n",
    "    H = np.maximum(0, H)  # ReLU activation\n",
    "    \n",
    "    return H\n",
    "\n",
    "# Define the weight matrix W (learnable parameters)\n",
    "# Initialize the weight matrix (W) \n",
    "out_features = 2  # Number of output features\n",
    "W = np.random.rand(X.shape[1], out_features)  # Shape: (num_features, out_features)\n",
    "\n",
    "# Apply the GCN layer\n",
    "H = gcn_layer(A, X, W)\n",
    "\n",
    "# Output the result\n",
    "print(\"Output of the GCN layer (feature matrix H):\")\n",
    "print(H)\n",
    "# new transformed feature matrix H, where each node has been mapped to a new feature space.\n",
    "# first column is first output feature for each node\n",
    "# second column is second output feature for each node"
   ]
  },
  {
   "cell_type": "code",
   "execution_count": null,
   "id": "95ba029c-b803-471a-99b0-bfe8dfef24e4",
   "metadata": {},
   "outputs": [],
   "source": []
  }
 ],
 "metadata": {
  "kernelspec": {
   "display_name": "pytorch_env",
   "language": "python",
   "name": "pytorch_env"
  },
  "language_info": {
   "codemirror_mode": {
    "name": "ipython",
    "version": 3
   },
   "file_extension": ".py",
   "mimetype": "text/x-python",
   "name": "python",
   "nbconvert_exporter": "python",
   "pygments_lexer": "ipython3",
   "version": "3.9.21"
  }
 },
 "nbformat": 4,
 "nbformat_minor": 5
}
